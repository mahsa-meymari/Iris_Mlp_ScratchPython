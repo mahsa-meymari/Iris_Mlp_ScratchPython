{
  "nbformat": 4,
  "nbformat_minor": 0,
  "metadata": {
    "colab": {
      "name": "Iris_Mlp_ScratchPython.ipynb",
      "provenance": [],
      "collapsed_sections": [],
      "toc_visible": true
    },
    "kernelspec": {
      "name": "python3",
      "display_name": "Python 3"
    }
  },
  "cells": [
    {
      "cell_type": "markdown",
      "metadata": {
        "id": "6FtqW7c5LS_H",
        "colab_type": "text"
      },
      "source": [
        "import Prerequisits"
      ]
    },
    {
      "cell_type": "code",
      "metadata": {
        "id": "apPqaAzhGsW5",
        "colab_type": "code",
        "colab": {}
      },
      "source": [
        "from sklearn.datasets import load_iris\n",
        "import numpy as np\n",
        "import random\n",
        "from matplotlib import pyplot as plt"
      ],
      "execution_count": 0,
      "outputs": []
    },
    {
      "cell_type": "markdown",
      "metadata": {
        "id": "STYDaNqihkKU",
        "colab_type": "text"
      },
      "source": [
        "define some useful functions"
      ]
    },
    {
      "cell_type": "code",
      "metadata": {
        "id": "rq6Zo-H7OMpp",
        "colab_type": "code",
        "colab": {}
      },
      "source": [
        "def mean_square_error_loss(pred,y):\n",
        "  error = np.mean(np.power(y-pred,2),axis=0)/2\n",
        "  return error \n",
        "\n",
        "def sigmoid(x):\n",
        "  return 1/(1+np.exp(-1*x))\n",
        "\n",
        "def sigmoid_derivative(x):\n",
        "  return x*(1-x)\n",
        "\n",
        "def relu(x):\n",
        "  return np.maximum(x,0)\n",
        "\n",
        "def identity(x):\n",
        "  return x\n",
        "def identity_derivative(x):\n",
        "  return np.ones(x.shape)\n",
        "\n",
        "def relu_derivative(x):\n",
        "  x[x>0] = 1\n",
        "  x[x<=0] = 0\n",
        "  return x\n",
        "\n",
        "def calc_acc(pred,y):\n",
        "  num_true_pred = np.count_nonzero(np.argmax(pred,axis = 1) == np.argmax(y,axis = 1))\n",
        "  return num_true_pred / len(y)"
      ],
      "execution_count": 0,
      "outputs": []
    },
    {
      "cell_type": "markdown",
      "metadata": {
        "id": "dQ38nkcWyEQB",
        "colab_type": "text"
      },
      "source": [
        "define Model class"
      ]
    },
    {
      "cell_type": "code",
      "metadata": {
        "id": "LCaf8a91h44E",
        "colab_type": "code",
        "colab": {}
      },
      "source": [
        "class Model:\n",
        "  layers = []\n",
        "\n",
        "  def add_layer(self,last_layer_nn,curren_layer_nn,activation,name,activation_derivative):\n",
        "      layer = {}\n",
        "      layer['weights'] = np.around((np.random.rand(last_layer_nn,curren_layer_nn))*2-1,1)\n",
        "      layer['bias'] = np.around(np.random.rand(curren_layer_nn),1)\n",
        "      layer['activation'] = activation\n",
        "      layer['name'] = name\n",
        "      layer['activation_derivative'] = activation_derivative\n",
        "      self.layers.append(layer)\n",
        "      return \n",
        "      \n",
        "\n",
        "  def forward_propagation(self,input):\n",
        "      a = input\n",
        "      inps = []\n",
        "      outs = [a]\n",
        "      for layer in self.layers:\n",
        "        z = np.matmul(a,layer['weights'])+layer['bias']\n",
        "        a = layer['activation'](z) \n",
        "        inps.append(z)\n",
        "        outs.append(a)\n",
        "      pred = a\n",
        "      return pred,inps,outs\n",
        "  \n",
        "  def back_propagation(self, pred , target ,inps,outs):\n",
        "    m = target.shape[0]\n",
        "    i = len(self.layers)\n",
        "    temp_weights = []\n",
        "    out_layer_flag = True\n",
        "    \n",
        "    for layer,inp in zip(self.layers[::-1],inps[::-1]):\n",
        "      dev_out = layer['activation_derivative'](outs[i]) # out = act(in) ==> dout/din = act(in)\n",
        "      dev_in = outs[i-1] # in = w1*a1+w2*a2 +...+b ==>  din/dwi = ai\n",
        "      if(out_layer_flag):\n",
        "        dev_cost = outs[i] - target # cost = 0.5(pred-target)^2 ==> dcost/dout = pred - target\n",
        "        next_dev_cost = np.matmul(dev_cost * dev_out , layer['weights'].T) \n",
        "        out_layer_flag = False\n",
        "      else:\n",
        "        dev_cost = next_dev_cost # dcost/dout_hidden = sigma(dcost_outputs/dout_hidden) = sigma(dcost_outputs/din_outpus * din_outputs/dout_hidden)   \n",
        "      \n",
        "      gradient = np.matmul(dev_in.T,(dev_cost*dev_out))/ m #gradient = dcost/dw = (dcost/dout * dout/din * din/dw) mean for all train entries\n",
        "      temp_weights.append(layer['weights'] - gradient *learning_rate)\n",
        "      layer['bias'] -= np.mean((dev_cost*dev_out))\n",
        "      i-=1\n",
        "    \n",
        "    for layer,temp_weight in zip(self.layers[::-1],temp_weights):\n",
        "      layer['weights'] = temp_weight\n",
        "\n",
        "    return\n",
        "\n",
        "  def train(self,X_train,y_train,epochs,X_val,y_val):\n",
        "    history={'loss' :[], 'acc' :[] ,'val_acc' : [] ,'val_loss':[]}\n",
        "    for epoch in range(epochs):\n",
        "      pred ,inps,outs = self.forward_propagation(X_train)\n",
        "      loss = mean_square_error_loss(pred,y_train)\n",
        "      acc = calc_acc(pred,y_train)\n",
        "      history['loss'].append(np.mean(loss))\n",
        "      history['acc'].append(acc)\n",
        "\n",
        "      pred_val,_,_ = self.forward_propagation(X_val)\n",
        "      val_loss = mean_square_error_loss(pred_val,y_val)\n",
        "      val_acc = calc_acc(pred_val,y_val)\n",
        "      history['val_loss'].append(np.mean(val_loss))\n",
        "      history['val_acc'].append(val_acc)\n",
        "\n",
        "      self.back_propagation( pred ,y_train,inps,outs) \n",
        "    return history \n",
        "    \n",
        "  def evaluate(self,X_test,y_test):\n",
        "    pred ,_,_ = self.forward_propagation(X_test)\n",
        "    loss = mean_square_error_loss(pred,y_test)\n",
        "    acc = calc_acc(pred,y_test)\n",
        "    return loss,acc\n",
        "\n",
        "  def predict(self,X_test):\n",
        "    pred,_,_ = self.forward_propagation(X_test)\n",
        "    return np.argmax(pred,axis = 1)\n"
      ],
      "execution_count": 0,
      "outputs": []
    },
    {
      "cell_type": "markdown",
      "metadata": {
        "id": "_5uSRSmtLjam",
        "colab_type": "text"
      },
      "source": [
        "load data"
      ]
    },
    {
      "cell_type": "code",
      "metadata": {
        "id": "ogofn9qBJFqd",
        "colab_type": "code",
        "colab": {}
      },
      "source": [
        "iris = load_iris()\n",
        "data = iris.data\n",
        "target = iris.target\n",
        "target_names = iris.target_names"
      ],
      "execution_count": 0,
      "outputs": []
    },
    {
      "cell_type": "markdown",
      "metadata": {
        "id": "PoD8EkE-LoE9",
        "colab_type": "text"
      },
      "source": [
        "prepare data"
      ]
    },
    {
      "cell_type": "code",
      "metadata": {
        "id": "5fzl_remJsUY",
        "colab_type": "code",
        "colab": {}
      },
      "source": [
        "def shuffle(a,b):\n",
        "  c = list(zip(a, b))\n",
        "  random.shuffle(c)\n",
        "  a, b = zip(*c)\n",
        "  return a,b\n",
        "def to_categorical(target):\n",
        "  temp = np.zeros((target.size, target.max()+1))\n",
        "  temp[np.arange(target.size),target] = 1\n",
        "  return temp\n",
        "\n",
        "y=to_categorical(target)\n",
        "y,data = shuffle(y,data)\n",
        "data = np.array(data)\n",
        "y = np.array(y)"
      ],
      "execution_count": 0,
      "outputs": []
    },
    {
      "cell_type": "markdown",
      "metadata": {
        "id": "QfCPxYz3Lpll",
        "colab_type": "text"
      },
      "source": [
        "split train and test"
      ]
    },
    {
      "cell_type": "code",
      "metadata": {
        "id": "urT9h-0LLPuC",
        "colab_type": "code",
        "colab": {}
      },
      "source": [
        "m,n = data.shape\n",
        "X_train = data[int(m/5):,:]\n",
        "X_test = data[:int(m/5),:]\n",
        "\n",
        "y_train = y[int(m/5):,:]\n",
        "y_test = y[:int(m/5),:]\n",
        "\n",
        "m = m - int(m/5)"
      ],
      "execution_count": 0,
      "outputs": []
    },
    {
      "cell_type": "markdown",
      "metadata": {
        "id": "Q8W2_mKjPdmj",
        "colab_type": "text"
      },
      "source": [
        "define hyperparameters"
      ]
    },
    {
      "cell_type": "code",
      "metadata": {
        "id": "PrfPhOIPPg4K",
        "colab_type": "code",
        "colab": {}
      },
      "source": [
        "epochs = 500\n",
        "learning_rate = 0.5"
      ],
      "execution_count": 0,
      "outputs": []
    },
    {
      "cell_type": "markdown",
      "metadata": {
        "id": "WuXhQsvHPzox",
        "colab_type": "text"
      },
      "source": [
        "build a model"
      ]
    },
    {
      "cell_type": "code",
      "metadata": {
        "id": "HJ9hOiK0Pyu4",
        "colab_type": "code",
        "colab": {}
      },
      "source": [
        "model = Model()\n",
        "model.add_layer(4,8,sigmoid,'hidden_1',sigmoid_derivative)\n",
        "model.add_layer(8,3,sigmoid,'out',sigmoid_derivative)\n"
      ],
      "execution_count": 0,
      "outputs": []
    },
    {
      "cell_type": "markdown",
      "metadata": {
        "id": "u7mQuOaIfslG",
        "colab_type": "text"
      },
      "source": [
        "train the model"
      ]
    },
    {
      "cell_type": "code",
      "metadata": {
        "id": "8-jIf8Qqfpa_",
        "colab_type": "code",
        "colab": {}
      },
      "source": [
        "history = model.train(X_train,y_train,epochs,X_test,y_test)"
      ],
      "execution_count": 0,
      "outputs": []
    },
    {
      "cell_type": "code",
      "metadata": {
        "id": "8mjwuV48NtZM",
        "colab_type": "code",
        "outputId": "1e93bd7c-0fca-40e2-a7fe-b04f0a7f0ce8",
        "colab": {
          "base_uri": "https://localhost:8080/",
          "height": 545
        }
      },
      "source": [
        "plt.plot(history['loss'])\n",
        "plt.plot(history['val_loss'])\n",
        "plt.title('loss')\n",
        "plt.show()\n",
        "plt.plot(history['acc'])\n",
        "plt.plot(history['val_acc'])\n",
        "plt.title('acc')\n",
        "plt.show()"
      ],
      "execution_count": 616,
      "outputs": [
        {
          "output_type": "display_data",
          "data": {
            "image/png": "[encoded data removed]",
            "text/plain": [
              "<Figure size 432x288 with 1 Axes>"
            ]
          },
          "metadata": {
            "tags": [],
            "needs_background": "light"
          }
        },
        {
          "output_type": "display_data",
          "data": {
            "image/png": "[encoded data removed]",
            "text/plain": [
              "<Figure size 432x288 with 1 Axes>"
            ]
          },
          "metadata": {
            "tags": [],
            "needs_background": "light"
          }
        }
      ]
    },
    {
      "cell_type": "markdown",
      "metadata": {
        "id": "3PUvNOAloxou",
        "colab_type": "text"
      },
      "source": [
        "Evaluate the model"
      ]
    },
    {
      "cell_type": "code",
      "metadata": {
        "id": "dLlSg1vwla0i",
        "colab_type": "code",
        "colab": {
          "base_uri": "https://localhost:8080/",
          "height": 34
        },
        "outputId": "b9012a31-668b-4efc-9401-71b2d9836ffd"
      },
      "source": [
        "loss ,acc = model.evaluate(X_test,y_test)\n",
        "print('on test data loss = {} and acc ={}'.format(np.round(np.mean(loss),2),np.round(acc * 100,2)))"
      ],
      "execution_count": 617,
      "outputs": [
        {
          "output_type": "stream",
          "text": [
            "on test data loss = 0.04 and acc =93.33\n"
          ],
          "name": "stdout"
        }
      ]
    },
    {
      "cell_type": "markdown",
      "metadata": {
        "id": "mGa6amoFo4b0",
        "colab_type": "text"
      },
      "source": [
        "Some predictions"
      ]
    },
    {
      "cell_type": "code",
      "metadata": {
        "id": "rzSLyTRoo82B",
        "colab_type": "code",
        "colab": {
          "base_uri": "https://localhost:8080/",
          "height": 68
        },
        "outputId": "c19dc833-0483-43f8-f363-c5ad2178164a"
      },
      "source": [
        "ind = random.randint(0,len(y_test))\n",
        "print('test input = {}'.format(X_test[ind]))\n",
        "print('actual result = {}'.format(np.argmax(y_test[ind])))\n",
        "print('predicted result = {}'.format(model.predict([X_test[ind]])[0]))"
      ],
      "execution_count": 618,
      "outputs": [
        {
          "output_type": "stream",
          "text": [
            "test input = [7.7 3.8 6.7 2.2]\n",
            "actual result = 2\n",
            "predicted result = 2\n"
          ],
          "name": "stdout"
        }
      ]
    }
  ]
}